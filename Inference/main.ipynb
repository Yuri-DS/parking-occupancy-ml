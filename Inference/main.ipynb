{
 "cells": [
  {
   "cell_type": "code",
   "execution_count": 1,
   "id": "c062860d-6009-4d66-b62a-0a5a2b8c329d",
   "metadata": {},
   "outputs": [],
   "source": [
    "import os\n",
    "import yaml\n",
    "import inference as inf\n",
    "from video_processor import process_video\n",
    "from models_arch import ResidualBlock, BetterCNNWithResiduals, SmallCNN"
   ]
  },
  {
   "cell_type": "code",
   "execution_count": 2,
   "id": "26328c3a-047d-4ef6-8f8e-d0d43ef7015c",
   "metadata": {},
   "outputs": [
    {
     "name": "stdout",
     "output_type": "stream",
     "text": [
      "[INFO] Loading model...\n",
      "[INFO] Loading parking areas...\n",
      "[INFO] Starting video processing...\n",
      "[INFO] Done\n"
     ]
    }
   ],
   "source": [
    "def run_pipeline(config_path):\n",
    "    with open(config_path, 'r') as f:\n",
    "        config = yaml.safe_load(f)\n",
    "\n",
    "    print(\"[INFO] Loading model...\")\n",
    "    model_type = config[\"model_type\"]\n",
    "    model = inf.load_model(config[\"model_path\"], model_type)\n",
    "    areas = []\n",
    "    if model_type == 0:\n",
    "        if not os.path.exists(config[\"json_annotations\"]):\n",
    "            inf.create_annotations(config[\"video_input\"], config[\"json_annotations\"])\n",
    "        print(\"[INFO] Loading parking areas...\")\n",
    "        areas = inf.load_areas_from_json(config[\"json_annotations\"])\n",
    "    print(\"[INFO] Starting video processing...\")\n",
    "    process_video(config, model, areas)\n",
    "    print(\"[INFO] Done\")\n",
    "\n",
    "if __name__ == \"__main__\":\n",
    "    run_pipeline(\"config3.yaml\")"
   ]
  },
  {
   "cell_type": "code",
   "execution_count": null,
   "id": "87012d24-0f93-48a0-9908-51d6e5ed3472",
   "metadata": {},
   "outputs": [],
   "source": []
  }
 ],
 "metadata": {
  "kernelspec": {
   "display_name": "Python 3 (ipykernel)",
   "language": "python",
   "name": "python3"
  },
  "language_info": {
   "codemirror_mode": {
    "name": "ipython",
    "version": 3
   },
   "file_extension": ".py",
   "mimetype": "text/x-python",
   "name": "python",
   "nbconvert_exporter": "python",
   "pygments_lexer": "ipython3",
   "version": "3.12.4"
  }
 },
 "nbformat": 4,
 "nbformat_minor": 5
}
