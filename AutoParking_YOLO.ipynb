{
 "cells": [
  {
   "cell_type": "code",
   "execution_count": null,
   "id": "b1b2c83b-a4b8-41b9-99fa-ad4c9fe21e1e",
   "metadata": {},
   "outputs": [],
   "source": [
    "!pip install roboflow\n",
    "!pip install ultralytics"
   ]
  },
  {
   "cell_type": "code",
   "execution_count": 4,
   "id": "29fbc14b-5088-4e0f-91a8-27ae7a12298a",
   "metadata": {},
   "outputs": [],
   "source": [
    "# Импорт библиотек\n",
    "from roboflow import Roboflow\n",
    "from ultralytics import YOLO"
   ]
  },
  {
   "cell_type": "code",
   "execution_count": null,
   "id": "d6f45422-301a-46c0-a3ce-046ee26f6bed",
   "metadata": {},
   "outputs": [],
   "source": [
    "# Получение и подготовка датасета для обучения модели\n",
    "rf = Roboflow(api_key=\"091mcn4Yvn3gWaa9FCeq\")\n",
    "project = rf.workspace(\"parkinglot-64itp\").project(\"parking_lot-7nsmw\")\n",
    "version = project.version(19)\n",
    "dataset = version.download(\"yolov8\")"
   ]
  },
  {
   "cell_type": "code",
   "execution_count": null,
   "id": "d52dc3c6-690b-41ea-a33f-9dbab9e9187f",
   "metadata": {
    "scrolled": true
   },
   "outputs": [],
   "source": [
    "# Загружаем предобученную модель для обучения \n",
    "model = YOLO(\"yolov8n.pt\")\n",
    "\n",
    "# Тренировка\n",
    "model.train(data=\"Parking_Lot-19/data.yaml\", epochs=20, imgsz=640)  # У меня ушло полтора часа"
   ]
  },
  {
   "cell_type": "code",
   "execution_count": 7,
   "id": "4e5c3a62-6137-4c5b-bc84-5627beed9338",
   "metadata": {},
   "outputs": [
    {
     "name": "stdout",
     "output_type": "stream",
     "text": [
      "\n",
      "image 1/1 C:\\Users\\1\\_JupyterNotebook_content\\_ParkingML\\5.png: 640x576 34 emptylots, 8 nonemptylots, 113.7ms\n",
      "Speed: 8.2ms preprocess, 113.7ms inference, 2.0ms postprocess per image at shape (1, 3, 640, 576)\n",
      "Results saved to \u001b[1mruns\\detect\\predict9\u001b[0m\n"
     ]
    }
   ],
   "source": [
    "# Загрузка твоих весов\n",
    "model = YOLO(\"runs/detect/train9/weights/best.pt\")\n",
    "\n",
    "# Тест на одной картинке\n",
    "results = model.predict(\"5.png\", save=True, imgsz=640, show_labels=False, show_conf=False)"
   ]
  },
  {
   "cell_type": "code",
   "execution_count": null,
   "id": "7a2124f3-fb53-4110-bd1e-dc7a3c808c47",
   "metadata": {},
   "outputs": [],
   "source": []
  }
 ],
 "metadata": {
  "kernelspec": {
   "display_name": "Python 3 (ipykernel)",
   "language": "python",
   "name": "python3"
  },
  "language_info": {
   "codemirror_mode": {
    "name": "ipython",
    "version": 3
   },
   "file_extension": ".py",
   "mimetype": "text/x-python",
   "name": "python",
   "nbconvert_exporter": "python",
   "pygments_lexer": "ipython3",
   "version": "3.12.2"
  }
 },
 "nbformat": 4,
 "nbformat_minor": 5
}
