{
 "cells": [
  {
   "cell_type": "code",
   "execution_count": null,
   "id": "b1b2c83b-a4b8-41b9-99fa-ad4c9fe21e1e",
   "metadata": {},
   "outputs": [],
   "source": [
    "!pip install roboflow\n",
    "!pip install ultralytics"
   ]
  },
  {
   "cell_type": "code",
   "execution_count": 9,
   "id": "29fbc14b-5088-4e0f-91a8-27ae7a12298a",
   "metadata": {},
   "outputs": [],
   "source": [
    "# Импорт библиотек\n",
    "from roboflow import Roboflow\n",
    "from ultralytics import YOLO\n",
    "import json"
   ]
  },
  {
   "cell_type": "code",
   "execution_count": null,
   "id": "d6f45422-301a-46c0-a3ce-046ee26f6bed",
   "metadata": {},
   "outputs": [],
   "source": [
    "# Получение и подготовка датасета для обучения модели\n",
    "rf = Roboflow(api_key=\"091mcn4Yvn3gWaa9FCeq\")\n",
    "project = rf.workspace(\"parkinglot-64itp\").project(\"parking_lot-7nsmw\")\n",
    "version = project.version(19)\n",
    "dataset = version.download(\"yolov8\")"
   ]
  },
  {
   "cell_type": "code",
   "execution_count": null,
   "id": "d52dc3c6-690b-41ea-a33f-9dbab9e9187f",
   "metadata": {
    "scrolled": true
   },
   "outputs": [],
   "source": [
    "# Загружаем предобученную модель для обучения \n",
    "model = YOLO(\"yolov8n.pt\")\n",
    "\n",
    "# Тренировка\n",
    "model.train(data=\"Parking_Lot-19/data.yaml\", epochs=20, imgsz=640)  # У меня ушло полтора часа"
   ]
  },
  {
   "cell_type": "code",
   "execution_count": 3,
   "id": "4e5c3a62-6137-4c5b-bc84-5627beed9338",
   "metadata": {},
   "outputs": [
    {
     "name": "stdout",
     "output_type": "stream",
     "text": [
      "\n",
      "image 1/1 C:\\Users\\1\\_JupyterNotebook_content\\_ParkingML\\6.png: 480x640 57 emptylots, 4 moving cars, 14 nonemptylots, 105.3ms\n",
      "Speed: 7.6ms preprocess, 105.3ms inference, 9.5ms postprocess per image at shape (1, 3, 480, 640)\n",
      "Results saved to \u001b[1mruns\\detect\\predict10\u001b[0m\n"
     ]
    }
   ],
   "source": [
    "# Загрузка твоих весов\n",
    "model = YOLO(\"runs/detect/train9/weights/best.pt\")\n",
    "\n",
    "# Тест на одной картинке\n",
    "results = model.predict(\"6.png\", save=True, imgsz=640, show_labels=False, show_conf=False)"
   ]
  },
  {
   "cell_type": "code",
   "execution_count": 4,
   "id": "7a2124f3-fb53-4110-bd1e-dc7a3c808c47",
   "metadata": {},
   "outputs": [
    {
     "name": "stdout",
     "output_type": "stream",
     "text": [
      "\n",
      "image 1/1 C:\\Users\\1\\_JupyterNotebook_content\\_ParkingML\\6.png: 480x640 57 emptylots, 4 moving cars, 14 nonemptylots, 52.1ms\n",
      "Speed: 3.8ms preprocess, 52.1ms inference, 1.0ms postprocess per image at shape (1, 3, 480, 640)\n",
      "Results saved to \u001b[1mruns\\detect\\predict_coco\u001b[0m\n"
     ]
    }
   ],
   "source": [
    "model = YOLO(\"runs/detect/train9/weights/best.pt\")\n",
    "\n",
    "results = model.predict(\n",
    "    source=\"6.png\",\n",
    "    imgsz=640,\n",
    "    save=True,             # сохраняет изображение с боксами\n",
    "    save_json=True,        # сохраняет JSON в формате COCO\n",
    "    show_labels=False,\n",
    "    show_conf=False,\n",
    "    project=\"runs/detect\", # куда сохранять\n",
    "    name=\"predict_coco\"    # подпапка для этого прогона\n",
    ")\n"
   ]
  },
  {
   "cell_type": "code",
   "execution_count": 8,
   "id": "1ae48536-44b0-4e8c-ba63-29f3b614cc20",
   "metadata": {},
   "outputs": [
    {
     "name": "stdout",
     "output_type": "stream",
     "text": [
      "\n",
      "image 1/1 C:\\Users\\1\\_JupyterNotebook_content\\_ParkingML\\6.png: 480x640 57 emptylots, 4 moving cars, 14 nonemptylots, 38.8ms\n",
      "Speed: 2.8ms preprocess, 38.8ms inference, 0.9ms postprocess per image at shape (1, 3, 480, 640)\n"
     ]
    }
   ],
   "source": [
    "# 1. Загружаем модель\n",
    "model = YOLO(\"runs/detect/train9/weights/best.pt\")\n",
    "\n",
    "# 2. Предсказываем на одном изображении\n",
    "results = model.predict(\"6.png\", imgsz=640, save=False)[0]\n",
    "\n",
    "# 3. Считываем размеры исходного изображения\n",
    "img = cv2.imread(\"6.png\")\n",
    "height, width = img.shape[:2]\n",
    "\n",
    "# 4. Готовим структуру COCO\n",
    "coco = {\n",
    "    \"images\": [\n",
    "        {\"id\": 1, \"file_name\": \"6.png\", \"width\": width, \"height\": height}\n",
    "    ],\n",
    "    \"annotations\": [],\n",
    "    \"categories\": []\n",
    "}\n",
    "\n",
    "# 5. Добавляем категории \n",
    "for cls_id, cls_name in model.names.items():\n",
    "    coco[\"categories\"].append({\"id\": cls_id, \"name\": cls_name})\n",
    "\n",
    "# 6. Пробегаем по всем боксам и формируем аннотации\n",
    "ann_id = 1\n",
    "for box in results.boxes:\n",
    "    x1, y1, x2, y2 = box.xyxy[0].tolist()\n",
    "    w, h = x2 - x1, y2 - y1\n",
    "    cat = int(box.cls[0].item()) \n",
    "    score = float(box.conf[0].item())\n",
    "\n",
    "    # if \n",
    "    coco[\"annotations\"].append({\n",
    "        \"id\": ann_id,\n",
    "        \"image_id\": 1,\n",
    "        \"category_id\": cat,\n",
    "        \"bbox\": [x1, y1, w, h],\n",
    "        \"area\": w * h,\n",
    "        \"iscrowd\": 0,\n",
    "        \"score\": score\n",
    "    })\n",
    "    ann_id += 1\n",
    "\n",
    "# 7. Сохраняем JSON на диск\n",
    "with open(\"predictions_coco.json\", \"w\", encoding=\"utf-8\") as f:\n",
    "    json.dump(coco, f, ensure_ascii=False, indent=2)\n"
   ]
  }
 ],
 "metadata": {
  "kernelspec": {
   "display_name": "Python 3 (ipykernel)",
   "language": "python",
   "name": "python3"
  },
  "language_info": {
   "codemirror_mode": {
    "name": "ipython",
    "version": 3
   },
   "file_extension": ".py",
   "mimetype": "text/x-python",
   "name": "python",
   "nbconvert_exporter": "python",
   "pygments_lexer": "ipython3",
   "version": "3.12.2"
  }
 },
 "nbformat": 4,
 "nbformat_minor": 5
}
