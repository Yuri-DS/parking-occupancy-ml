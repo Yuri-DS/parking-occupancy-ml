{
 "cells": [
  {
   "cell_type": "code",
   "execution_count": null,
   "id": "b1b2c83b-a4b8-41b9-99fa-ad4c9fe21e1e",
   "metadata": {},
   "outputs": [],
   "source": [
    "!pip install roboflow\n",
    "!pip install ultralytics"
   ]
  },
  {
   "cell_type": "code",
   "execution_count": 9,
   "id": "29fbc14b-5088-4e0f-91a8-27ae7a12298a",
   "metadata": {},
   "outputs": [],
   "source": [
    "# Импорт библиотек\n",
    "from roboflow import Roboflow\n",
    "from ultralytics import YOLO\n",
    "import json"
   ]
  },
  {
   "cell_type": "code",
   "execution_count": null,
   "id": "d6f45422-301a-46c0-a3ce-046ee26f6bed",
   "metadata": {},
   "outputs": [],
   "source": [
    "# Получение и подготовка датасета для обучения модели\n",
    "rf = Roboflow(api_key=\"091mcn4Yvn3gWaa9FCeq\")\n",
    "project = rf.workspace(\"parkinglot-64itp\").project(\"parking_lot-7nsmw\")\n",
    "version = project.version(19)\n",
    "dataset = version.download(\"yolov8\")"
   ]
  },
  {
   "cell_type": "code",
   "execution_count": null,
   "id": "d52dc3c6-690b-41ea-a33f-9dbab9e9187f",
   "metadata": {
    "scrolled": true
   },
   "outputs": [],
   "source": [
    "# Загружаем предобученную модель для обучения \n",
    "model = YOLO(\"yolov8n.pt\")\n",
    "\n",
    "# Тренировка\n",
    "model.train(data=\"Parking_Lot-19/data.yaml\", epochs=20, imgsz=640)  # У меня ушло полтора часа"
   ]
  },
  {
   "cell_type": "code",
   "execution_count": 3,
   "id": "4e5c3a62-6137-4c5b-bc84-5627beed9338",
   "metadata": {},
   "outputs": [
    {
     "name": "stdout",
     "output_type": "stream",
     "text": [
      "\n",
      "image 1/1 C:\\Users\\1\\_JupyterNotebook_content\\_ParkingML\\6.png: 480x640 57 emptylots, 4 moving cars, 14 nonemptylots, 105.3ms\n",
      "Speed: 7.6ms preprocess, 105.3ms inference, 9.5ms postprocess per image at shape (1, 3, 480, 640)\n",
      "Results saved to \u001b[1mruns\\detect\\predict10\u001b[0m\n"
     ]
    }
   ],
   "source": [
    "# Загрузка твоих весов\n",
    "model = YOLO(\"runs/detect/train9/weights/best.pt\")\n",
    "\n",
    "# Тест на одной картинке\n",
    "results = model.predict(\"6.png\", save=True, imgsz=640, show_labels=False, show_conf=False)"
   ]
  },
  {
   "cell_type": "code",
   "execution_count": 44,
   "id": "1ae48536-44b0-4e8c-ba63-29f3b614cc20",
   "metadata": {},
   "outputs": [
    {
     "name": "stdout",
     "output_type": "stream",
     "text": [
      "\n",
      "0: 480x640 58 emptylots, 3 moving cars, 14 nonemptylots, 63.8ms\n",
      "Speed: 3.7ms preprocess, 63.8ms inference, 1.5ms postprocess per image at shape (1, 3, 480, 640)\n",
      "Сохранено 72 боксов (без moving car) в parking_boxes.json\n"
     ]
    }
   ],
   "source": [
    "video_path  = r\"C:\\Users\\1\\Downloads\\Telegram Desktop\\парковка.avi\"\n",
    "output_json = \"parking_boxes.json\"\n",
    "\n",
    "# Открываем видео и читаем первый кадр \n",
    "cap = cv2.VideoCapture(video_path)\n",
    "ret, frame = cap.read()\n",
    "cap.release()\n",
    "if not ret:\n",
    "    raise RuntimeError(f\"Не удалось прочитать кадр из {video_path}\")\n",
    "\n",
    "# Запускаем детектор на numpy-массиве кадра \n",
    "model   = YOLO(\"runs/detect/train9/weights/best.pt\")\n",
    "results = model(frame)[0]\n",
    "\n",
    "# Определяем ID класса \"moving car\" для фильтрации \n",
    "moving_id = None\n",
    "for cls_id, cls_name in model.names.items():\n",
    "    if cls_name.lower() == \"moving car\":\n",
    "        moving_id = cls_id\n",
    "        break\n",
    "if moving_id is None:\n",
    "    raise ValueError(\"Класс 'moving car' не найден в model.names\")\n",
    "\n",
    "# Собираем только bbox для emptylot и nonemptylot \n",
    "boxes = []\n",
    "for box in results.boxes:\n",
    "    cid = int(box.cls[0].item())\n",
    "    if cid == moving_id:\n",
    "        continue  # пропускаем все движущиеся машины\n",
    "    x1, y1, x2, y2 = box.xyxy[0].tolist()\n",
    "    boxes.append([x1, y1, x2 - x1, y2 - y1])\n",
    "\n",
    "# Сохраняем JSON с одним полем \"boxes\" \n",
    "with open(output_json, \"w\", encoding=\"utf-8\") as f:\n",
    "    json.dump({\"boxes\": boxes}, f, ensure_ascii=False, indent=2)\n",
    "\n",
    "print(f\"Сохранено {len(boxes)} боксов (без moving car) в {output_json}\")\n"
   ]
  },
  {
   "cell_type": "code",
   "execution_count": 45,
   "id": "bfd5b692-a548-4b44-b46e-55fea5a3284e",
   "metadata": {},
   "outputs": [
    {
     "name": "stdout",
     "output_type": "stream",
     "text": [
      "Результат сохранён в last_frame_with_boxes.png\n"
     ]
    }
   ],
   "source": [
    "video_path  = r\"C:\\Users\\1\\Downloads\\Telegram Desktop\\парковка.avi\"\n",
    "input_json  = \"parking_boxes.json\"\n",
    "out_image   = \"last_frame_with_boxes.png\"\n",
    "\n",
    "# Загружаем и валидируем JSON\n",
    "with open(input_json, \"r\", encoding=\"utf-8\") as f:\n",
    "    data = json.load(f)\n",
    "\n",
    "if \"boxes\" not in data:\n",
    "    raise ValueError(\"Неверный формат JSON: ожидалось поле 'boxes'\")\n",
    "\n",
    "boxes = data[\"boxes\"]\n",
    "\n",
    "# Берём последний кадр из видео\n",
    "cap = cv2.VideoCapture(video_path)\n",
    "frame_count = int(cap.get(cv2.CAP_PROP_FRAME_COUNT))\n",
    "cap.set(cv2.CAP_PROP_POS_FRAMES, frame_count - 1)\n",
    "ret, last_frame = cap.read()\n",
    "cap.release()\n",
    "if not ret:\n",
    "    raise RuntimeError(\"Не удалось прочитать последний кадр видео\")\n",
    "\n",
    "# Отрисовываем все bbox\n",
    "for box in boxes:\n",
    "    x, y, w_box, h_box = map(int, box)\n",
    "    cv2.rectangle(\n",
    "        last_frame,\n",
    "        (x, y),\n",
    "        (x + w_box, y + h_box),\n",
    "        (0, 255, 0),  # зелёный цвет\n",
    "        thickness=2\n",
    "    )\n",
    "\n",
    "# Сохраняем результат\n",
    "cv2.imwrite(out_image, last_frame)\n",
    "print(f\"Результат сохранён в {out_image}\")\n"
   ]
  },
  {
   "cell_type": "code",
   "execution_count": null,
   "id": "8570c46a-a271-4f6f-92af-f6827799fb53",
   "metadata": {},
   "outputs": [],
   "source": []
  }
 ],
 "metadata": {
  "kernelspec": {
   "display_name": "Python 3 (ipykernel)",
   "language": "python",
   "name": "python3"
  },
  "language_info": {
   "codemirror_mode": {
    "name": "ipython",
    "version": 3
   },
   "file_extension": ".py",
   "mimetype": "text/x-python",
   "name": "python",
   "nbconvert_exporter": "python",
   "pygments_lexer": "ipython3",
   "version": "3.12.2"
  }
 },
 "nbformat": 4,
 "nbformat_minor": 5
}
